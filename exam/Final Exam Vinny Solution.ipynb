{
 "cells": [
  {
   "cell_type": "markdown",
   "metadata": {
    "jp-MarkdownHeadingCollapsed": true,
    "tags": []
   },
   "source": [
    "# Final Exam\n",
    "\n",
    "## FINM 37400 - 2024\n",
    "\n",
    "### UChicago Financial Mathematics\n",
    "\n",
    "* Mark Hendricks\n",
    "* hendricks@uchicago.edu"
   ]
  },
  {
   "cell_type": "code",
   "execution_count": 1,
   "metadata": {},
   "outputs": [],
   "source": [
    "import numpy as np\n",
    "import pandas as pd\n",
    "import matplotlib.pyplot as plt\n",
    "import seaborn as sns\n",
    "\n",
    "from datetime import datetime\n",
    "from dateutil.relativedelta import relativedelta\n",
    "import statsmodels.api as sm\n",
    "from scipy.optimize import minimize"
   ]
  },
  {
   "cell_type": "markdown",
   "metadata": {},
   "source": [
    "***"
   ]
  },
  {
   "cell_type": "markdown",
   "metadata": {},
   "source": [
    "# Instructions"
   ]
  },
  {
   "cell_type": "markdown",
   "metadata": {},
   "source": [
    "## Please note the following:\n",
    "\n",
    "Time\n",
    "* You have 180 minutes to complete the exam.\n",
    "* For every minute late you submit the exam, you will lose one point.\n",
    "\n",
    "Submission\n",
    "* You will upload your solution to the Final Exam assignment on Canvas.\n",
    "* Your submission should be readable, (the graders can understand your answers,) and it should include all code used in your analysis in a file format that the code can be executed. (ie. .ipynb preferred, .pdf is unacceptable.)\n",
    "\n",
    "Rules\n",
    "* The exam is open-material, closed-communication.\n",
    "* You do not need to cite material from the course github repo--you are welcome to use the code posted there without citation, (only for this exam.)\n",
    "\n",
    "Advice\n",
    "* If you find any question to be unclear, state your interpretation and proceed. We will only answer questions of interpretation if there is a typo, error, etc.\n",
    "* The exam will be graded for partial credit."
   ]
  },
  {
   "cell_type": "markdown",
   "metadata": {},
   "source": [
    "## Data\n",
    "\n",
    "**All data files are found in the class github repo, in the `data` folder.**\n",
    "\n",
    "This exam makes use of the following data files:\n",
    "\n",
    "#### Section 2\n",
    "* New file: `select_maturities_2017-02-07.xlsx`\n",
    "\n",
    "#### Section 3\n",
    "* Familiar file: `famabliss_strips_2023-12-29.xlsx`"
   ]
  },
  {
   "cell_type": "code",
   "execution_count": 28,
   "metadata": {},
   "outputs": [],
   "source": [
    "path2 = '../data/select_maturities_2017-02-07.xlsx'\n",
    "path3 = '../data/famabliss_strips_2023-12-29.xlsx'\n",
    "\n",
    "df2 = pd.read_excel(path2).set_index('kytreasno')\n",
    "df3 = pd.read_excel(path3).set_index('date')\n"
   ]
  },
  {
   "cell_type": "markdown",
   "metadata": {},
   "source": [
    "## Scoring\n",
    "\n",
    "| Problem | Points |\n",
    "|---------|--------|\n",
    "| 1       | 25     |\n",
    "| 2       | 45     |\n",
    "| 3       | 60     |\n",
    "| 4       | 35     |\n",
    "| **Total**   | **165**|"
   ]
  },
  {
   "cell_type": "markdown",
   "metadata": {},
   "source": [
    "***"
   ]
  },
  {
   "cell_type": "markdown",
   "metadata": {},
   "source": [
    "# 1. Long-Short Trades"
   ]
  },
  {
   "cell_type": "markdown",
   "metadata": {},
   "source": [
    "Consider the following market data as of `Dec 29, 2023`.\n",
    "\n",
    "The table below shows two Treasury securities, a T-note and a T-bond. They mature on the same date."
   ]
  },
  {
   "cell_type": "code",
   "execution_count": 7,
   "metadata": {},
   "outputs": [
    {
     "data": {
      "text/html": [
       "<div>\n",
       "<style scoped>\n",
       "    .dataframe tbody tr th:only-of-type {\n",
       "        vertical-align: middle;\n",
       "    }\n",
       "\n",
       "    .dataframe tbody tr th {\n",
       "        vertical-align: top;\n",
       "    }\n",
       "\n",
       "    .dataframe thead th {\n",
       "        text-align: right;\n",
       "    }\n",
       "</style>\n",
       "<table border=\"1\" class=\"dataframe\">\n",
       "  <thead>\n",
       "    <tr style=\"text-align: right;\">\n",
       "      <th></th>\n",
       "      <th>207391</th>\n",
       "      <th>204095</th>\n",
       "    </tr>\n",
       "  </thead>\n",
       "  <tbody>\n",
       "    <tr>\n",
       "      <th>issue date</th>\n",
       "      <td>2019-08-15</td>\n",
       "      <td>1999-08-15</td>\n",
       "    </tr>\n",
       "    <tr>\n",
       "      <th>maturity date</th>\n",
       "      <td>2029-08-15</td>\n",
       "      <td>2029-08-15</td>\n",
       "    </tr>\n",
       "    <tr>\n",
       "      <th>coupon rate</th>\n",
       "      <td>0.01625</td>\n",
       "      <td>0.06125</td>\n",
       "    </tr>\n",
       "    <tr>\n",
       "      <th>clean price</th>\n",
       "      <td>89.03125</td>\n",
       "      <td>111.0391</td>\n",
       "    </tr>\n",
       "    <tr>\n",
       "      <th>accrued interest</th>\n",
       "      <td>0.6005</td>\n",
       "      <td>2.2636</td>\n",
       "    </tr>\n",
       "    <tr>\n",
       "      <th>ytm</th>\n",
       "      <td>0.037677</td>\n",
       "      <td>0.038784</td>\n",
       "    </tr>\n",
       "    <tr>\n",
       "      <th>duration</th>\n",
       "      <td>5.3494</td>\n",
       "      <td>4.7967</td>\n",
       "    </tr>\n",
       "  </tbody>\n",
       "</table>\n",
       "</div>"
      ],
      "text/plain": [
       "                      207391      204095\n",
       "issue date        2019-08-15  1999-08-15\n",
       "maturity date     2029-08-15  2029-08-15\n",
       "coupon rate          0.01625     0.06125\n",
       "clean price         89.03125    111.0391\n",
       "accrued interest      0.6005      2.2636\n",
       "ytm                 0.037677    0.038784\n",
       "duration              5.3494      4.7967"
      ]
     },
     "execution_count": 7,
     "metadata": {},
     "output_type": "execute_result"
    }
   ],
   "source": [
    "import pandas as pd\n",
    "summary = pd.DataFrame(index=[],columns = [207391,204095],dtype=float)\n",
    "summary.loc['issue date'] = ['2019-08-15','1999-08-15']\n",
    "summary.loc['maturity date'] = ['2029-08-15','2029-08-15']\n",
    "summary.loc['coupon rate'] = [.01625, .06125]\n",
    "summary.loc['clean price'] = [89.03125,111.0391]\n",
    "summary.loc['accrued interest'] = [.6005, 2.2636]\n",
    "summary.loc['ytm'] = [.037677, .038784]\n",
    "summary.loc['duration'] = [5.3494,4.7967]\n",
    "summary"
   ]
  },
  {
   "cell_type": "markdown",
   "metadata": {},
   "source": [
    "### 1.1. (5pts)\n",
    "\n",
    "Explain the long-short trade you would enter based on the market data above, without any further calculation. "
   ]
  },
  {
   "cell_type": "markdown",
   "metadata": {},
   "source": [
    "# 1.1 Solution\n",
    "\n",
    "Assuming their ytm spread should close, you would buy 204095 and short 207391 while being duration hedged. Higher ytm means the bond is cheaper."
   ]
  },
  {
   "cell_type": "markdown",
   "metadata": {},
   "source": [
    "### 1.2. (5pts)\n",
    "\n",
    "Size your trade.\n",
    "* Suppose the long side is set to $100 million market value. \n",
    "* Size the short to be duration-neutral.\n",
    "\n",
    "Report the market value in the short-side of the trade and the number of long and short contracts."
   ]
  },
  {
   "cell_type": "code",
   "execution_count": 18,
   "metadata": {},
   "outputs": [
    {
     "name": "stdout",
     "output_type": "stream",
     "text": [
      "You are long 882591.5004673322 contracts of 204095 for total value 100000000.\n",
      "You are short -1000404.4342495766 contracts of 207391 for total value -89668000.14954948.\n"
     ]
    }
   ],
   "source": [
    "# long 207391 cause lower ytm\n",
    "summary.loc['dirty price'] = summary.loc['clean price'] + summary.loc['accrued interest']\n",
    "\n",
    "dur_list = summary.loc['duration']\n",
    "\n",
    "mkt_val1 = 100_000_000\n",
    "mkt_val2 = - dur_list[204095] * mkt_val1 / dur_list[207391]\n",
    "\n",
    "num1 = mkt_val1 / summary.loc['dirty price'][204095]\n",
    "num2 = mkt_val2 / summary.loc['dirty price'][207391]\n",
    "\n",
    "summary.loc['mkt_val'] = [mkt_val2, mkt_val1]\n",
    "summary.loc['num contracts'] = [num2, num1]\n",
    "\n",
    "print(f'You are long {num1} contracts of 204095 for total value {mkt_val1}.')\n",
    "print(f'You are short {num2} contracts of 207391 for total value {mkt_val2}.')"
   ]
  },
  {
   "cell_type": "markdown",
   "metadata": {},
   "source": [
    "### 1.3. (5pts)\n",
    "\n",
    "What are the risks of this trade in the short-term and in the long-term?"
   ]
  },
  {
   "cell_type": "markdown",
   "metadata": {},
   "source": [
    "# 1.3 Solution\n",
    "\n",
    "In the short term, the spread not closing or widening could lead to issues with the account. Given leverage, we may need to commit more funds to our trade.\n",
    "\n",
    "In the long term, changes in the yield curve could lead to changes in duration, leading to different duration hedging and exposure to yield changes."
   ]
  },
  {
   "cell_type": "markdown",
   "metadata": {},
   "source": [
    "### 1.4. (5pts)\n",
    "\n",
    "Use **modified duration**--not the Macauley duration reported above--to estimate how much pnl will be earned if the securities converge (symmetrically)."
   ]
  },
  {
   "cell_type": "code",
   "execution_count": 20,
   "metadata": {},
   "outputs": [
    {
     "data": {
      "text/html": [
       "<div>\n",
       "<style scoped>\n",
       "    .dataframe tbody tr th:only-of-type {\n",
       "        vertical-align: middle;\n",
       "    }\n",
       "\n",
       "    .dataframe tbody tr th {\n",
       "        vertical-align: top;\n",
       "    }\n",
       "\n",
       "    .dataframe thead th {\n",
       "        text-align: right;\n",
       "    }\n",
       "</style>\n",
       "<table border=\"1\" class=\"dataframe\">\n",
       "  <thead>\n",
       "    <tr style=\"text-align: right;\">\n",
       "      <th></th>\n",
       "      <th>207391</th>\n",
       "      <th>204095</th>\n",
       "    </tr>\n",
       "  </thead>\n",
       "  <tbody>\n",
       "    <tr>\n",
       "      <th>issue date</th>\n",
       "      <td>2019-08-15</td>\n",
       "      <td>1999-08-15</td>\n",
       "    </tr>\n",
       "    <tr>\n",
       "      <th>maturity date</th>\n",
       "      <td>2029-08-15</td>\n",
       "      <td>2029-08-15</td>\n",
       "    </tr>\n",
       "    <tr>\n",
       "      <th>coupon rate</th>\n",
       "      <td>0.01625</td>\n",
       "      <td>0.06125</td>\n",
       "    </tr>\n",
       "    <tr>\n",
       "      <th>clean price</th>\n",
       "      <td>89.03125</td>\n",
       "      <td>111.0391</td>\n",
       "    </tr>\n",
       "    <tr>\n",
       "      <th>accrued interest</th>\n",
       "      <td>0.6005</td>\n",
       "      <td>2.2636</td>\n",
       "    </tr>\n",
       "    <tr>\n",
       "      <th>ytm</th>\n",
       "      <td>0.037677</td>\n",
       "      <td>0.038784</td>\n",
       "    </tr>\n",
       "    <tr>\n",
       "      <th>duration</th>\n",
       "      <td>5.3494</td>\n",
       "      <td>4.7967</td>\n",
       "    </tr>\n",
       "    <tr>\n",
       "      <th>dirty price</th>\n",
       "      <td>89.63175</td>\n",
       "      <td>113.3027</td>\n",
       "    </tr>\n",
       "    <tr>\n",
       "      <th>num contracts</th>\n",
       "      <td>-1000404.43425</td>\n",
       "      <td>882591.500467</td>\n",
       "    </tr>\n",
       "    <tr>\n",
       "      <th>mkt_val</th>\n",
       "      <td>-89668000.149549</td>\n",
       "      <td>100000000</td>\n",
       "    </tr>\n",
       "    <tr>\n",
       "      <th>modified duration</th>\n",
       "      <td>5.250489</td>\n",
       "      <td>4.705452</td>\n",
       "    </tr>\n",
       "    <tr>\n",
       "      <th>PnL converge</th>\n",
       "      <td>260588.253192</td>\n",
       "      <td>260446.761403</td>\n",
       "    </tr>\n",
       "  </tbody>\n",
       "</table>\n",
       "</div>"
      ],
      "text/plain": [
       "                            207391         204095\n",
       "issue date              2019-08-15     1999-08-15\n",
       "maturity date           2029-08-15     2029-08-15\n",
       "coupon rate                0.01625        0.06125\n",
       "clean price               89.03125       111.0391\n",
       "accrued interest            0.6005         2.2636\n",
       "ytm                       0.037677       0.038784\n",
       "duration                    5.3494         4.7967\n",
       "dirty price               89.63175       113.3027\n",
       "num contracts       -1000404.43425  882591.500467\n",
       "mkt_val           -89668000.149549      100000000\n",
       "modified duration         5.250489       4.705452\n",
       "PnL converge         260588.253192  260446.761403"
      ]
     },
     "execution_count": 20,
     "metadata": {},
     "output_type": "execute_result"
    }
   ],
   "source": [
    "summary.loc['modified duration'] = summary.loc['duration'] / (1 + summary.loc['ytm'] / 2)\n",
    "\n",
    "mean_ytm = summary.loc['ytm'].mean()\n",
    "\n",
    "summary.loc['PnL converge'] = - (mean_ytm - summary.loc['ytm']) * summary.loc['mkt_val'] * summary.loc['modified duration']\n",
    "\n",
    "summary"
   ]
  },
  {
   "cell_type": "code",
   "execution_count": 22,
   "metadata": {},
   "outputs": [
    {
     "name": "stdout",
     "output_type": "stream",
     "text": [
      "We make 521035.01459511206 in PnL if the yields converge symmetrically.\n"
     ]
    }
   ],
   "source": [
    "print(f'We make {summary.loc['PnL converge'].sum()} in PnL if the yields converge symmetrically.')"
   ]
  },
  {
   "cell_type": "markdown",
   "metadata": {},
   "source": [
    "### 1.5. (5pts)\n",
    "\n",
    "For which of these securities will the duration approximation be less accurate? Explain."
   ]
  },
  {
   "cell_type": "markdown",
   "metadata": {},
   "source": [
    "# 1.5 Solution\n",
    "\n",
    "Higher coupons mena lower convexity in cash flows. Thus, the duration approximation is more accurate with 204095 and less accurate with 207391."
   ]
  },
  {
   "cell_type": "markdown",
   "metadata": {},
   "source": [
    "***"
   ]
  },
  {
   "cell_type": "markdown",
   "metadata": {},
   "source": [
    "# 2. Extracting Curves"
   ]
  },
  {
   "cell_type": "markdown",
   "metadata": {},
   "source": [
    "Use the selected treasury quotes in the file, `select_maturities_2017-02-07.xlsx`.\n",
    "\n",
    "* Market quots are provided for treasury securities expiring approximately every six months over the next ten years.\n",
    "* You are welcome to assume that they mature at exaclty six-year increments or to use the exact dates.\n",
    "* Consider the `price` column to represent the dirty mid price. Use it as quoted, without further adjustment."
   ]
  },
  {
   "cell_type": "markdown",
   "metadata": {},
   "source": [
    "### 2.1 (10pts)\n",
    "\n",
    "Bootstrap the spot curve. Report it in both...\n",
    "* discount factors, $Z$\n",
    "* (semiannually compounded) discount rates, $r$"
   ]
  },
  {
   "cell_type": "code",
   "execution_count": 67,
   "metadata": {},
   "outputs": [],
   "source": [
    "from pandas.tseries.offsets import DateOffset\n",
    "\n",
    "def cashflow_matrix_mod(data, face_val=100, coupon_freq='6ME', maturity=False):\n",
    "    data['maturity date'] = pd.to_datetime(data['maturity date'])\n",
    "    data['date'] = pd.to_datetime(data['date'])\n",
    "\n",
    "    all_dates = pd.date_range(\n",
    "        start=data['date'].min() + DateOffset(days=1),\n",
    "        end=data['maturity date'].max(),\n",
    "        freq='D'\n",
    "    )\n",
    "\n",
    "    cash_flow_matrix = pd.DataFrame(0, index=data.index, columns=all_dates)\n",
    "\n",
    "    maturity_dates = set(data['maturity date'])  # Store maturity dates\n",
    "    q_date = data.iloc[0]['date']\n",
    "\n",
    "    for idx, row in data.iterrows():\n",
    "        payment_dates = []\n",
    "        current_date = row['maturity date']\n",
    "        \n",
    "        # Count backwards in 6-month intervals\n",
    "        while current_date >= row['date']:\n",
    "            # Adjust February 28/29 to August 31\n",
    "            if current_date.month == 2 and current_date.day in [28, 29]:\n",
    "                current_date = current_date + DateOffset(months=6)  # Move to August\n",
    "                current_date = current_date.replace(day=31)  # Ensure it lands on August 31\n",
    "\n",
    "            payment_dates.append(current_date)\n",
    "            current_date -= DateOffset(months=6)  # Move backward in 6-month intervals\n",
    "\n",
    "        # Ensure the dates are sorted in ascending order\n",
    "        payment_dates = sorted(payment_dates)\n",
    "\n",
    "        # Calculate coupon payment amount\n",
    "        cpn_payment = row['cpn rate'] / 100 * face_val / 2\n",
    "\n",
    "        # Assign coupon payments to the cash flow matrix\n",
    "        cash_flow_matrix.loc[idx, payment_dates] = cpn_payment\n",
    "        cash_flow_matrix.loc[idx, row['maturity date']] += face_val  # Add face value only at maturity\n",
    "\n",
    "    cash_flow_matrix = cash_flow_matrix.fillna(0)\n",
    "\n",
    "    # Remove initial date column if present\n",
    "    if q_date in set(cash_flow_matrix.columns):\n",
    "        cash_flow_matrix = cash_flow_matrix.drop(columns={q_date})\n",
    "\n",
    "    # Remove all-zero columns to keep only relevant dates\n",
    "    cash_flow_matrix = cash_flow_matrix.loc[:, (cash_flow_matrix != 0).any(axis=0)]\n",
    "    cash_flow_matrix = cash_flow_matrix.sort_index(axis=1)\n",
    "    \n",
    "    if maturity:\n",
    "        non_maturity_cols = list(set(cash_flow_matrix.columns) - set(maturity_dates))\n",
    "        print(non_maturity_cols)\n",
    "\n",
    "        if non_maturity_cols:\n",
    "            bonds_with_invalid_cashflows = (cash_flow_matrix[non_maturity_cols] != 0).any(axis=1)\n",
    "            cash_flow_matrix = cash_flow_matrix.loc[~bonds_with_invalid_cashflows]\n",
    "        \n",
    "        new_mat_set = set(data[data.index.isin(set(cash_flow_matrix.index))]['maturity date'])\n",
    "        cash_flow_matrix = cash_flow_matrix[list(new_mat_set)].sort_index(axis=1)\n",
    "\n",
    "    return cash_flow_matrix\n"
   ]
  },
  {
   "cell_type": "code",
   "execution_count": 68,
   "metadata": {},
   "outputs": [
    {
     "ename": "KeyboardInterrupt",
     "evalue": "",
     "output_type": "error",
     "traceback": [
      "\u001b[1;31m---------------------------------------------------------------------------\u001b[0m",
      "\u001b[1;31mKeyboardInterrupt\u001b[0m                         Traceback (most recent call last)",
      "Cell \u001b[1;32mIn[68], line 1\u001b[0m\n\u001b[1;32m----> 1\u001b[0m cf_df \u001b[38;5;241m=\u001b[39m cashflow_matrix_mod(df2, maturity\u001b[38;5;241m=\u001b[39m\u001b[38;5;28;01mTrue\u001b[39;00m)\n",
      "Cell \u001b[1;32mIn[67], line 26\u001b[0m, in \u001b[0;36mcashflow_matrix_mod\u001b[1;34m(data, face_val, coupon_freq, maturity)\u001b[0m\n\u001b[0;32m     23\u001b[0m \u001b[38;5;28;01mwhile\u001b[39;00m current_date \u001b[38;5;241m>\u001b[39m\u001b[38;5;241m=\u001b[39m row[\u001b[38;5;124m'\u001b[39m\u001b[38;5;124mdate\u001b[39m\u001b[38;5;124m'\u001b[39m]:\n\u001b[0;32m     24\u001b[0m     \u001b[38;5;66;03m# Adjust February 28/29 to August 31\u001b[39;00m\n\u001b[0;32m     25\u001b[0m     \u001b[38;5;28;01mif\u001b[39;00m current_date\u001b[38;5;241m.\u001b[39mmonth \u001b[38;5;241m==\u001b[39m \u001b[38;5;241m2\u001b[39m \u001b[38;5;129;01mand\u001b[39;00m current_date\u001b[38;5;241m.\u001b[39mday \u001b[38;5;129;01min\u001b[39;00m [\u001b[38;5;241m28\u001b[39m, \u001b[38;5;241m29\u001b[39m]:\n\u001b[1;32m---> 26\u001b[0m         current_date \u001b[38;5;241m=\u001b[39m current_date \u001b[38;5;241m+\u001b[39m DateOffset(months\u001b[38;5;241m=\u001b[39m\u001b[38;5;241m6\u001b[39m)  \u001b[38;5;66;03m# Move to August\u001b[39;00m\n\u001b[0;32m     27\u001b[0m         current_date \u001b[38;5;241m=\u001b[39m current_date\u001b[38;5;241m.\u001b[39mreplace(day\u001b[38;5;241m=\u001b[39m\u001b[38;5;241m31\u001b[39m)  \u001b[38;5;66;03m# Ensure it lands on August 31\u001b[39;00m\n\u001b[0;32m     29\u001b[0m     payment_dates\u001b[38;5;241m.\u001b[39mappend(current_date)\n",
      "File \u001b[1;32moffsets.pyx:468\u001b[0m, in \u001b[0;36mpandas._libs.tslibs.offsets.BaseOffset.__radd__\u001b[1;34m()\u001b[0m\n",
      "File \u001b[1;32moffsets.pyx:463\u001b[0m, in \u001b[0;36mpandas._libs.tslibs.offsets.BaseOffset.__add__\u001b[1;34m()\u001b[0m\n",
      "File \u001b[1;32moffsets.pyx:141\u001b[0m, in \u001b[0;36mpandas._libs.tslibs.offsets.apply_wraps.wrapper\u001b[1;34m()\u001b[0m\n",
      "File \u001b[1;32moffsets.pyx:1432\u001b[0m, in \u001b[0;36mpandas._libs.tslibs.offsets.RelativeDeltaOffset._apply\u001b[1;34m()\u001b[0m\n",
      "File \u001b[1;32m~\\AppData\\Roaming\\Python\\Python312\\site-packages\\dateutil\\relativedelta.py:405\u001b[0m, in \u001b[0;36mrelativedelta.__radd__\u001b[1;34m(self, other)\u001b[0m\n\u001b[0;32m    404\u001b[0m \u001b[38;5;28;01mdef\u001b[39;00m \u001b[38;5;21m__radd__\u001b[39m(\u001b[38;5;28mself\u001b[39m, other):\n\u001b[1;32m--> 405\u001b[0m     \u001b[38;5;28;01mreturn\u001b[39;00m \u001b[38;5;28mself\u001b[39m\u001b[38;5;241m.\u001b[39m\u001b[38;5;21m__add__\u001b[39m(other)\n",
      "File \u001b[1;32m~\\AppData\\Roaming\\Python\\Python312\\site-packages\\dateutil\\relativedelta.py:377\u001b[0m, in \u001b[0;36mrelativedelta.__add__\u001b[1;34m(self, other)\u001b[0m\n\u001b[0;32m    375\u001b[0m         year \u001b[38;5;241m-\u001b[39m\u001b[38;5;241m=\u001b[39m \u001b[38;5;241m1\u001b[39m\n\u001b[0;32m    376\u001b[0m         month \u001b[38;5;241m+\u001b[39m\u001b[38;5;241m=\u001b[39m \u001b[38;5;241m12\u001b[39m\n\u001b[1;32m--> 377\u001b[0m day \u001b[38;5;241m=\u001b[39m \u001b[38;5;28mmin\u001b[39m(calendar\u001b[38;5;241m.\u001b[39mmonthrange(year, month)[\u001b[38;5;241m1\u001b[39m],\n\u001b[0;32m    378\u001b[0m           \u001b[38;5;28mself\u001b[39m\u001b[38;5;241m.\u001b[39mday \u001b[38;5;129;01mor\u001b[39;00m other\u001b[38;5;241m.\u001b[39mday)\n\u001b[0;32m    379\u001b[0m repl \u001b[38;5;241m=\u001b[39m {\u001b[38;5;124m\"\u001b[39m\u001b[38;5;124myear\u001b[39m\u001b[38;5;124m\"\u001b[39m: year, \u001b[38;5;124m\"\u001b[39m\u001b[38;5;124mmonth\u001b[39m\u001b[38;5;124m\"\u001b[39m: month, \u001b[38;5;124m\"\u001b[39m\u001b[38;5;124mday\u001b[39m\u001b[38;5;124m\"\u001b[39m: day}\n\u001b[0;32m    380\u001b[0m \u001b[38;5;28;01mfor\u001b[39;00m attr \u001b[38;5;129;01min\u001b[39;00m [\u001b[38;5;124m\"\u001b[39m\u001b[38;5;124mhour\u001b[39m\u001b[38;5;124m\"\u001b[39m, \u001b[38;5;124m\"\u001b[39m\u001b[38;5;124mminute\u001b[39m\u001b[38;5;124m\"\u001b[39m, \u001b[38;5;124m\"\u001b[39m\u001b[38;5;124msecond\u001b[39m\u001b[38;5;124m\"\u001b[39m, \u001b[38;5;124m\"\u001b[39m\u001b[38;5;124mmicrosecond\u001b[39m\u001b[38;5;124m\"\u001b[39m]:\n",
      "File \u001b[1;32mc:\\Users\\vince\\anaconda3\\Lib\\calendar.py:166\u001b[0m, in \u001b[0;36mmonthrange\u001b[1;34m(year, month)\u001b[0m\n\u001b[0;32m    164\u001b[0m \u001b[38;5;28;01mif\u001b[39;00m \u001b[38;5;129;01mnot\u001b[39;00m \u001b[38;5;241m1\u001b[39m \u001b[38;5;241m<\u001b[39m\u001b[38;5;241m=\u001b[39m month \u001b[38;5;241m<\u001b[39m\u001b[38;5;241m=\u001b[39m \u001b[38;5;241m12\u001b[39m:\n\u001b[0;32m    165\u001b[0m     \u001b[38;5;28;01mraise\u001b[39;00m IllegalMonthError(month)\n\u001b[1;32m--> 166\u001b[0m day1 \u001b[38;5;241m=\u001b[39m weekday(year, month, \u001b[38;5;241m1\u001b[39m)\n\u001b[0;32m    167\u001b[0m ndays \u001b[38;5;241m=\u001b[39m mdays[month] \u001b[38;5;241m+\u001b[39m (month \u001b[38;5;241m==\u001b[39m FEBRUARY \u001b[38;5;129;01mand\u001b[39;00m isleap(year))\n\u001b[0;32m    168\u001b[0m \u001b[38;5;28;01mreturn\u001b[39;00m day1, ndays\n",
      "File \u001b[1;32mc:\\Users\\vince\\anaconda3\\Lib\\calendar.py:158\u001b[0m, in \u001b[0;36mweekday\u001b[1;34m(year, month, day)\u001b[0m\n\u001b[0;32m    156\u001b[0m \u001b[38;5;28;01mif\u001b[39;00m \u001b[38;5;129;01mnot\u001b[39;00m datetime\u001b[38;5;241m.\u001b[39mMINYEAR \u001b[38;5;241m<\u001b[39m\u001b[38;5;241m=\u001b[39m year \u001b[38;5;241m<\u001b[39m\u001b[38;5;241m=\u001b[39m datetime\u001b[38;5;241m.\u001b[39mMAXYEAR:\n\u001b[0;32m    157\u001b[0m     year \u001b[38;5;241m=\u001b[39m \u001b[38;5;241m2000\u001b[39m \u001b[38;5;241m+\u001b[39m year \u001b[38;5;241m%\u001b[39m \u001b[38;5;241m400\u001b[39m\n\u001b[1;32m--> 158\u001b[0m \u001b[38;5;28;01mreturn\u001b[39;00m Day(datetime\u001b[38;5;241m.\u001b[39mdate(year, month, day)\u001b[38;5;241m.\u001b[39mweekday())\n",
      "\u001b[1;31mKeyboardInterrupt\u001b[0m: "
     ]
    }
   ],
   "source": [
    "cf_df = cashflow_matrix_mod(df2, maturity=True)"
   ]
  },
  {
   "cell_type": "code",
   "execution_count": 61,
   "metadata": {},
   "outputs": [
    {
     "data": {
      "text/html": [
       "<div>\n",
       "<style scoped>\n",
       "    .dataframe tbody tr th:only-of-type {\n",
       "        vertical-align: middle;\n",
       "    }\n",
       "\n",
       "    .dataframe tbody tr th {\n",
       "        vertical-align: top;\n",
       "    }\n",
       "\n",
       "    .dataframe thead th {\n",
       "        text-align: right;\n",
       "    }\n",
       "</style>\n",
       "<table border=\"1\" class=\"dataframe\">\n",
       "  <thead>\n",
       "    <tr style=\"text-align: right;\">\n",
       "      <th></th>\n",
       "    </tr>\n",
       "    <tr>\n",
       "      <th>kytreasno</th>\n",
       "    </tr>\n",
       "  </thead>\n",
       "  <tbody>\n",
       "  </tbody>\n",
       "</table>\n",
       "</div>"
      ],
      "text/plain": [
       "Empty DataFrame\n",
       "Columns: []\n",
       "Index: []"
      ]
     },
     "execution_count": 61,
     "metadata": {},
     "output_type": "execute_result"
    }
   ],
   "source": [
    "cf_df"
   ]
  },
  {
   "cell_type": "code",
   "execution_count": 54,
   "metadata": {},
   "outputs": [],
   "source": [
    "def estimate_discount_factors(price_df, cf_df):\n",
    "    \"\"\"\n",
    "    Estimates discount factors using OLS regression based on the equation:\n",
    "        p = C z + e\n",
    "    where:\n",
    "        - p: Vector of bond prices from price_df.\n",
    "        - C: Cash flow matrix from cf_df.\n",
    "        - z: Estimated discount factors.\n",
    "        - e: Error term.\n",
    "\n",
    "    Parameters:\n",
    "    price_df (pd.DataFrame): DataFrame with treasury number as index and a column 'price'.\n",
    "    cf_df (pd.DataFrame): DataFrame with treasury number as index and columns as cash flow dates.\n",
    "\n",
    "    Returns:\n",
    "    pd.Series: Estimated discount factors indexed by cash flow dates.\n",
    "    \"\"\"\n",
    "    # Ensure indices match between price_df and cf_df\n",
    "    common_index = price_df.index.intersection(cf_df.index)\n",
    "    p = price_df.loc[common_index, 'price'].values  # Extract prices\n",
    "    C = cf_df.loc[common_index].values  # Extract cash flow matrix\n",
    "\n",
    "    # Perform OLS regression\n",
    "    model = sm.OLS(p, C)  # No intercept since cash flows sum to price\n",
    "    results = model.fit()\n",
    "\n",
    "    # Extract estimated discount factors\n",
    "    z = pd.DataFrame(results.params, index=cf_df.columns, columns=['Discount Factors'])\n",
    "    z.index.name = 'date'\n",
    "    \n",
    "    return z, results"
   ]
  },
  {
   "cell_type": "code",
   "execution_count": 55,
   "metadata": {},
   "outputs": [],
   "source": [
    "df2['price'] = df2['bid'] + df2['ask']\n",
    "\n",
    "price_df = df2[['price']]\n",
    "\n",
    "z, res = estimate_discount_factors(price_df, cf_df)"
   ]
  },
  {
   "cell_type": "code",
   "execution_count": 56,
   "metadata": {},
   "outputs": [
    {
     "data": {
      "text/html": [
       "<div>\n",
       "<style scoped>\n",
       "    .dataframe tbody tr th:only-of-type {\n",
       "        vertical-align: middle;\n",
       "    }\n",
       "\n",
       "    .dataframe tbody tr th {\n",
       "        vertical-align: top;\n",
       "    }\n",
       "\n",
       "    .dataframe thead th {\n",
       "        text-align: right;\n",
       "    }\n",
       "</style>\n",
       "<table border=\"1\" class=\"dataframe\">\n",
       "  <thead>\n",
       "    <tr style=\"text-align: right;\">\n",
       "      <th></th>\n",
       "      <th>Discount Factors</th>\n",
       "    </tr>\n",
       "    <tr>\n",
       "      <th>date</th>\n",
       "      <th></th>\n",
       "    </tr>\n",
       "  </thead>\n",
       "  <tbody>\n",
       "    <tr>\n",
       "      <th>2017-02-15</th>\n",
       "      <td>0.178640</td>\n",
       "    </tr>\n",
       "    <tr>\n",
       "      <th>2017-02-28</th>\n",
       "      <td>0.157363</td>\n",
       "    </tr>\n",
       "    <tr>\n",
       "      <th>2017-08-15</th>\n",
       "      <td>0.178640</td>\n",
       "    </tr>\n",
       "    <tr>\n",
       "      <th>2017-08-28</th>\n",
       "      <td>0.151156</td>\n",
       "    </tr>\n",
       "    <tr>\n",
       "      <th>2017-08-31</th>\n",
       "      <td>1.992578</td>\n",
       "    </tr>\n",
       "    <tr>\n",
       "      <th>2018-02-15</th>\n",
       "      <td>0.178640</td>\n",
       "    </tr>\n",
       "    <tr>\n",
       "      <th>2018-02-28</th>\n",
       "      <td>1.988496</td>\n",
       "    </tr>\n",
       "    <tr>\n",
       "      <th>2018-08-15</th>\n",
       "      <td>0.178640</td>\n",
       "    </tr>\n",
       "    <tr>\n",
       "      <th>2018-08-28</th>\n",
       "      <td>0.136887</td>\n",
       "    </tr>\n",
       "    <tr>\n",
       "      <th>2018-08-31</th>\n",
       "      <td>1.974996</td>\n",
       "    </tr>\n",
       "    <tr>\n",
       "      <th>2019-02-15</th>\n",
       "      <td>0.178640</td>\n",
       "    </tr>\n",
       "    <tr>\n",
       "      <th>2019-02-28</th>\n",
       "      <td>1.978780</td>\n",
       "    </tr>\n",
       "    <tr>\n",
       "      <th>2019-08-15</th>\n",
       "      <td>0.178640</td>\n",
       "    </tr>\n",
       "    <tr>\n",
       "      <th>2019-08-28</th>\n",
       "      <td>0.080862</td>\n",
       "    </tr>\n",
       "    <tr>\n",
       "      <th>2019-08-29</th>\n",
       "      <td>0.026393</td>\n",
       "    </tr>\n",
       "    <tr>\n",
       "      <th>2019-08-31</th>\n",
       "      <td>1.962654</td>\n",
       "    </tr>\n",
       "    <tr>\n",
       "      <th>2020-02-15</th>\n",
       "      <td>0.178640</td>\n",
       "    </tr>\n",
       "    <tr>\n",
       "      <th>2020-02-28</th>\n",
       "      <td>0.080862</td>\n",
       "    </tr>\n",
       "    <tr>\n",
       "      <th>2020-02-29</th>\n",
       "      <td>1.950913</td>\n",
       "    </tr>\n",
       "    <tr>\n",
       "      <th>2020-08-15</th>\n",
       "      <td>0.178640</td>\n",
       "    </tr>\n",
       "    <tr>\n",
       "      <th>2020-08-28</th>\n",
       "      <td>0.080862</td>\n",
       "    </tr>\n",
       "    <tr>\n",
       "      <th>2020-08-31</th>\n",
       "      <td>1.927660</td>\n",
       "    </tr>\n",
       "    <tr>\n",
       "      <th>2021-02-15</th>\n",
       "      <td>0.178640</td>\n",
       "    </tr>\n",
       "    <tr>\n",
       "      <th>2021-02-28</th>\n",
       "      <td>1.916782</td>\n",
       "    </tr>\n",
       "    <tr>\n",
       "      <th>2021-08-15</th>\n",
       "      <td>0.178640</td>\n",
       "    </tr>\n",
       "    <tr>\n",
       "      <th>2021-08-28</th>\n",
       "      <td>0.059943</td>\n",
       "    </tr>\n",
       "    <tr>\n",
       "      <th>2021-08-31</th>\n",
       "      <td>1.893475</td>\n",
       "    </tr>\n",
       "    <tr>\n",
       "      <th>2022-02-15</th>\n",
       "      <td>0.178640</td>\n",
       "    </tr>\n",
       "    <tr>\n",
       "      <th>2022-02-28</th>\n",
       "      <td>1.912734</td>\n",
       "    </tr>\n",
       "    <tr>\n",
       "      <th>2022-08-15</th>\n",
       "      <td>0.178640</td>\n",
       "    </tr>\n",
       "    <tr>\n",
       "      <th>2022-08-28</th>\n",
       "      <td>0.026176</td>\n",
       "    </tr>\n",
       "    <tr>\n",
       "      <th>2022-08-31</th>\n",
       "      <td>1.890142</td>\n",
       "    </tr>\n",
       "    <tr>\n",
       "      <th>2023-02-15</th>\n",
       "      <td>0.178640</td>\n",
       "    </tr>\n",
       "    <tr>\n",
       "      <th>2023-02-28</th>\n",
       "      <td>1.856947</td>\n",
       "    </tr>\n",
       "    <tr>\n",
       "      <th>2023-08-15</th>\n",
       "      <td>0.178640</td>\n",
       "    </tr>\n",
       "    <tr>\n",
       "      <th>2023-08-31</th>\n",
       "      <td>1.822653</td>\n",
       "    </tr>\n",
       "    <tr>\n",
       "      <th>2024-02-15</th>\n",
       "      <td>2.012626</td>\n",
       "    </tr>\n",
       "    <tr>\n",
       "      <th>2024-08-15</th>\n",
       "      <td>1.942552</td>\n",
       "    </tr>\n",
       "    <tr>\n",
       "      <th>2025-02-15</th>\n",
       "      <td>1.873268</td>\n",
       "    </tr>\n",
       "    <tr>\n",
       "      <th>2025-08-15</th>\n",
       "      <td>1.845439</td>\n",
       "    </tr>\n",
       "    <tr>\n",
       "      <th>2026-02-15</th>\n",
       "      <td>1.780364</td>\n",
       "    </tr>\n",
       "    <tr>\n",
       "      <th>2026-08-15</th>\n",
       "      <td>1.745991</td>\n",
       "    </tr>\n",
       "    <tr>\n",
       "      <th>2027-02-15</th>\n",
       "      <td>2.224341</td>\n",
       "    </tr>\n",
       "  </tbody>\n",
       "</table>\n",
       "</div>"
      ],
      "text/plain": [
       "            Discount Factors\n",
       "date                        \n",
       "2017-02-15          0.178640\n",
       "2017-02-28          0.157363\n",
       "2017-08-15          0.178640\n",
       "2017-08-28          0.151156\n",
       "2017-08-31          1.992578\n",
       "2018-02-15          0.178640\n",
       "2018-02-28          1.988496\n",
       "2018-08-15          0.178640\n",
       "2018-08-28          0.136887\n",
       "2018-08-31          1.974996\n",
       "2019-02-15          0.178640\n",
       "2019-02-28          1.978780\n",
       "2019-08-15          0.178640\n",
       "2019-08-28          0.080862\n",
       "2019-08-29          0.026393\n",
       "2019-08-31          1.962654\n",
       "2020-02-15          0.178640\n",
       "2020-02-28          0.080862\n",
       "2020-02-29          1.950913\n",
       "2020-08-15          0.178640\n",
       "2020-08-28          0.080862\n",
       "2020-08-31          1.927660\n",
       "2021-02-15          0.178640\n",
       "2021-02-28          1.916782\n",
       "2021-08-15          0.178640\n",
       "2021-08-28          0.059943\n",
       "2021-08-31          1.893475\n",
       "2022-02-15          0.178640\n",
       "2022-02-28          1.912734\n",
       "2022-08-15          0.178640\n",
       "2022-08-28          0.026176\n",
       "2022-08-31          1.890142\n",
       "2023-02-15          0.178640\n",
       "2023-02-28          1.856947\n",
       "2023-08-15          0.178640\n",
       "2023-08-31          1.822653\n",
       "2024-02-15          2.012626\n",
       "2024-08-15          1.942552\n",
       "2025-02-15          1.873268\n",
       "2025-08-15          1.845439\n",
       "2026-02-15          1.780364\n",
       "2026-08-15          1.745991\n",
       "2027-02-15          2.224341"
      ]
     },
     "execution_count": 56,
     "metadata": {},
     "output_type": "execute_result"
    }
   ],
   "source": [
    "z"
   ]
  },
  {
   "cell_type": "markdown",
   "metadata": {},
   "source": [
    "### 2.2 (10pts)\n",
    "\n",
    "Calculate the Nelson-Siegel curve using the parameters below. (Not the NS-extended; just four parameters.)\n",
    "\n",
    "Report both\n",
    "* discount factors, $Z$\n",
    "* (semiannually compounded) discount rates, $r$"
   ]
  },
  {
   "cell_type": "code",
   "execution_count": 70,
   "metadata": {},
   "outputs": [],
   "source": [
    "def nelson_siegel(ttm, beta0, beta1, beta2, lmda):\n",
    "    \"\"\"Nelson-Seigel yield curve model.\"\"\"\n",
    "    term = ttm / lmda\n",
    "    return beta0 + beta1 * ((1 - np.exp(-term)) / term) + beta2 * (((1 - np.exp(-term)) / term) - np.exp(-term))\n",
    "\n",
    "def price_error(params, price_ttm_df, cf_df):\n",
    "    \"\"\"Objective function: Sum of squared pricing errors.\"\"\"\n",
    "    beta0, beta1, beta2, lmda = params\n",
    "    \n",
    "    # Compute discount factors using Nelson-Siegel model\n",
    "    yields = nelson_siegel(price_ttm_df['ttm'].values, beta0, beta1, beta2, lmda)\n",
    "    discount_factors = np.exp(-yields * price_ttm_df['ttm'].values)\n",
    "    \n",
    "    # Ensure discount_factors is properly shaped for element-wise multiplication\n",
    "    estimated_prices = (cf_df.values * discount_factors[:, None]).sum(axis=1)\n",
    "    \n",
    "    # Compute sum of squared errors\n",
    "    return np.sum((price_ttm_df['price'].values - estimated_prices) ** 2)\n",
    "\n",
    "\n",
    "def estimate_discount_factors(price_ttm_df, cf_df):\n",
    "    \"\"\"Estimate discount factors using Nelson-Seigel model.\"\"\"\n",
    "    initial_guess = [0.02, -0.02, 0.02, 1.0]  # Initial values for beta0, beta1, beta2, lmda\n",
    "    bounds = [(None, None), (None, None), (None, None), (0.001, None)]  # Lambda must be positive\n",
    "    \n",
    "    result = minimize(price_error, initial_guess, args=(price_ttm_df, cf_df), bounds=bounds)\n",
    "    \n",
    "    if result.success:\n",
    "        beta0, beta1, beta2, lmda = result.x\n",
    "        estimated_yields = nelson_siegel(price_ttm_df['ttm'], beta0, beta1, beta2, lmda)\n",
    "        discount_factors = np.exp(-estimated_yields * price_ttm_df['ttm'])\n",
    "        \n",
    "        factors = {'beta0': beta0, 'beta1': beta1, 'beta2': beta2, 'lmda': lmda}\n",
    "\n",
    "        resdf = pd.DataFrame({\n",
    "            'Discount Factors': discount_factors,\n",
    "            'date': price_ttm_df['date'].values  # Ensure values match correctly\n",
    "        }, index=price_ttm_df.index)\n",
    "\n",
    "\n",
    "\n",
    "        return factors, resdf\n",
    "    else:\n",
    "        raise ValueError(\"Optimization failed: \" + result.message)\n"
   ]
  },
  {
   "cell_type": "code",
   "execution_count": 2,
   "metadata": {},
   "outputs": [
    {
     "data": {
      "text/html": [
       "<div>\n",
       "<style scoped>\n",
       "    .dataframe tbody tr th:only-of-type {\n",
       "        vertical-align: middle;\n",
       "    }\n",
       "\n",
       "    .dataframe tbody tr th {\n",
       "        vertical-align: top;\n",
       "    }\n",
       "\n",
       "    .dataframe thead th {\n",
       "        text-align: right;\n",
       "    }\n",
       "</style>\n",
       "<table border=\"1\" class=\"dataframe\">\n",
       "  <thead>\n",
       "    <tr style=\"text-align: right;\">\n",
       "      <th></th>\n",
       "      <th>theta0</th>\n",
       "      <th>theta1</th>\n",
       "      <th>theta2</th>\n",
       "      <th>lambda1</th>\n",
       "    </tr>\n",
       "  </thead>\n",
       "  <tbody>\n",
       "    <tr>\n",
       "      <th>Nelson-Siegel parameters</th>\n",
       "      <td>0.031627</td>\n",
       "      <td>-0.025166</td>\n",
       "      <td>-0.020701</td>\n",
       "      <td>1.514887</td>\n",
       "    </tr>\n",
       "  </tbody>\n",
       "</table>\n",
       "</div>"
      ],
      "text/plain": [
       "                            theta0    theta1    theta2   lambda1\n",
       "Nelson-Siegel parameters  0.031627 -0.025166 -0.020701  1.514887"
      ]
     },
     "metadata": {},
     "output_type": "display_data"
    }
   ],
   "source": [
    "params = pd.DataFrame(columns=['Nelson-Siegel parameters'],index=['theta0', 'theta1','theta2','lambda1'],data=[0.031627,-0.025166, -0.020701, 1.514887]).T\n",
    "display(params)"
   ]
  },
  {
   "cell_type": "code",
   "execution_count": 71,
   "metadata": {},
   "outputs": [
    {
     "name": "stderr",
     "output_type": "stream",
     "text": [
      "C:\\Users\\vince\\AppData\\Local\\Temp\\ipykernel_22960\\180395532.py:3: SettingWithCopyWarning: \n",
      "A value is trying to be set on a copy of a slice from a DataFrame.\n",
      "Try using .loc[row_indexer,col_indexer] = value instead\n",
      "\n",
      "See the caveats in the documentation: https://pandas.pydata.org/pandas-docs/stable/user_guide/indexing.html#returning-a-view-versus-a-copy\n",
      "  ttm_df['discount factor'] = nelson_siegel(ttm_df['ttm'], 0.031627,-0.025166, -0.020701, 1.514887)\n"
     ]
    }
   ],
   "source": [
    "ttm_df = df2[['date', 'ttm']] \n",
    "\n",
    "ttm_df['discount factor'] = nelson_siegel(ttm_df['ttm'], 0.031627,-0.025166, -0.020701, 1.514887)"
   ]
  },
  {
   "cell_type": "code",
   "execution_count": 72,
   "metadata": {},
   "outputs": [
    {
     "data": {
      "image/png": "[encoded data removed]",
      "text/plain": [
       "<Figure size 800x600 with 1 Axes>"
      ]
     },
     "metadata": {},
     "output_type": "display_data"
    }
   ],
   "source": [
    "plt.figure(figsize=(8, 6))\n",
    "plt.plot(ttm_df['ttm'], ttm_df['discount factor'], marker='o', linestyle='-', label='Discount Factors')\n",
    "plt.title('TTM vs. Discount Factors')\n",
    "plt.xlabel('TTM')\n",
    "plt.ylabel('Discount Factors')\n",
    "plt.grid(True)\n",
    "plt.legend()\n",
    "plt.show()"
   ]
  },
  {
   "cell_type": "markdown",
   "metadata": {},
   "source": [
    "### 2.3 (5pts)\n",
    "\n",
    "Plot...\n",
    "* bootstrapped spot rates\n",
    "* Nelson-Siegel spot rates\n",
    "* provided ytm"
   ]
  },
  {
   "cell_type": "code",
   "execution_count": null,
   "metadata": {},
   "outputs": [],
   "source": []
  },
  {
   "cell_type": "markdown",
   "metadata": {},
   "source": [
    "### 2.4 (10pts)\n",
    "\n",
    "Which of the two spot rate curves (bootstrapped or Nelson-Siegel) would be better for...\n",
    "* pricing the provided sample\n",
    "* building spot rates out to 30 years\n",
    "* calculating forward rates\n",
    "\n",
    "For each of these three questions, be **specific** in your answer."
   ]
  },
  {
   "cell_type": "markdown",
   "metadata": {},
   "source": [
    "# 2.4 Solution\n",
    "\n",
    "For pricing the sample, the bootstrap is perfect.\n",
    "\n",
    "For building out spot rates, Nelson Siegel is more applicable.\n",
    "\n",
    "For calculating forward rates, Nelson Siegel is also better for interpolating."
   ]
  },
  {
   "cell_type": "markdown",
   "metadata": {},
   "source": [
    "### 2.5 (5pts)\n",
    "\n",
    "Consider the bootstrapped curve and its associated forward curve. (No need to calculate the forward curve.)\n",
    "\n",
    "Conceptually, do you expect it is higher or lower than the spot-rate curve at\n",
    "* $T=1$\n",
    "* $T=10$\n",
    "\n",
    "Explain."
   ]
  },
  {
   "cell_type": "markdown",
   "metadata": {},
   "source": [
    "### 2.6 (5pts)\n",
    "\n",
    "Use the bootstrapped spot curve to calculate the forward rate for $T_1=3\\to T_2=3.5$."
   ]
  },
  {
   "cell_type": "markdown",
   "metadata": {},
   "source": [
    "***"
   ]
  },
  {
   "cell_type": "markdown",
   "metadata": {},
   "source": [
    "# 3. Trading the Yield Curve\n",
    "\n"
   ]
  },
  {
   "cell_type": "markdown",
   "metadata": {},
   "source": [
    "Use the file, `famabliss_strips_2023-12-29.xlsx` for the following problem.\n",
    "\n",
    "* The file provides prices for **strips** which are zero-coupon bonds. \n",
    "* Assume face value of 100.\n",
    "* Because these prices are on zero-coupon bonds, they can be interpreted as discount factors, $Z$, directly.\n",
    "\n",
    "Note that you will make use of only a few rows of the data set."
   ]
  },
  {
   "cell_type": "code",
   "execution_count": 73,
   "metadata": {},
   "outputs": [
    {
     "data": {
      "text/html": [
       "<div>\n",
       "<style scoped>\n",
       "    .dataframe tbody tr th:only-of-type {\n",
       "        vertical-align: middle;\n",
       "    }\n",
       "\n",
       "    .dataframe tbody tr th {\n",
       "        vertical-align: top;\n",
       "    }\n",
       "\n",
       "    .dataframe thead th {\n",
       "        text-align: right;\n",
       "    }\n",
       "</style>\n",
       "<table border=\"1\" class=\"dataframe\">\n",
       "  <thead>\n",
       "    <tr style=\"text-align: right;\">\n",
       "      <th></th>\n",
       "      <th>1</th>\n",
       "      <th>2</th>\n",
       "      <th>3</th>\n",
       "      <th>4</th>\n",
       "      <th>5</th>\n",
       "    </tr>\n",
       "    <tr>\n",
       "      <th>date</th>\n",
       "      <th></th>\n",
       "      <th></th>\n",
       "      <th></th>\n",
       "      <th></th>\n",
       "      <th></th>\n",
       "    </tr>\n",
       "  </thead>\n",
       "  <tbody>\n",
       "    <tr>\n",
       "      <th>1952-06-30</th>\n",
       "      <td>98.177763</td>\n",
       "      <td>96.253133</td>\n",
       "      <td>94.246713</td>\n",
       "      <td>92.634134</td>\n",
       "      <td>90.418295</td>\n",
       "    </tr>\n",
       "    <tr>\n",
       "      <th>1952-07-31</th>\n",
       "      <td>98.094756</td>\n",
       "      <td>96.031453</td>\n",
       "      <td>93.931226</td>\n",
       "      <td>92.308865</td>\n",
       "      <td>89.851576</td>\n",
       "    </tr>\n",
       "    <tr>\n",
       "      <th>1952-08-29</th>\n",
       "      <td>98.057808</td>\n",
       "      <td>95.974988</td>\n",
       "      <td>93.781939</td>\n",
       "      <td>92.145776</td>\n",
       "      <td>89.571687</td>\n",
       "    </tr>\n",
       "    <tr>\n",
       "      <th>1952-09-30</th>\n",
       "      <td>98.031188</td>\n",
       "      <td>95.909789</td>\n",
       "      <td>93.755108</td>\n",
       "      <td>92.096104</td>\n",
       "      <td>89.167641</td>\n",
       "    </tr>\n",
       "    <tr>\n",
       "      <th>1952-10-31</th>\n",
       "      <td>98.110769</td>\n",
       "      <td>95.974490</td>\n",
       "      <td>93.758273</td>\n",
       "      <td>91.929019</td>\n",
       "      <td>89.724841</td>\n",
       "    </tr>\n",
       "  </tbody>\n",
       "</table>\n",
       "</div>"
      ],
      "text/plain": [
       "                    1          2          3          4          5\n",
       "date                                                             \n",
       "1952-06-30  98.177763  96.253133  94.246713  92.634134  90.418295\n",
       "1952-07-31  98.094756  96.031453  93.931226  92.308865  89.851576\n",
       "1952-08-29  98.057808  95.974988  93.781939  92.145776  89.571687\n",
       "1952-09-30  98.031188  95.909789  93.755108  92.096104  89.167641\n",
       "1952-10-31  98.110769  95.974490  93.758273  91.929019  89.724841"
      ]
     },
     "execution_count": 73,
     "metadata": {},
     "output_type": "execute_result"
    }
   ],
   "source": [
    "df3.head()"
   ]
  },
  {
   "cell_type": "markdown",
   "metadata": {},
   "source": [
    "### 1. (10pts)\n",
    "\n",
    "Set up a trade as of `2010-01-29` to \n",
    "* go long 100 million (market value) of the 5-year.\n",
    "* short the 2-year strips in a quantity that is duration hedged.\n",
    "\n",
    "List the positions you hold long and short. \n",
    "* Assume you are financing the positions directly; no worries about haircuts. \n",
    "* Assume there are no market frictions, so you can short securities and immediately receive their market value. \n",
    "* (No need to worry about borrowing costs for the short.)"
   ]
  },
  {
   "cell_type": "code",
   "execution_count": 75,
   "metadata": {},
   "outputs": [
    {
     "name": "stdout",
     "output_type": "stream",
     "text": [
      "We are long 1124880.4923065926 contracts of the 5 year strip with 100000000 value.\n",
      "We are short -2539847.7258298844 contracts of the 5 year strip with -250000000.0 value.\n"
     ]
    }
   ],
   "source": [
    "# 0 coupon means duration is index\n",
    "mk5 = 100_000_000\n",
    "mk2 = - mk5 * 5 / 2\n",
    "num5 = mk5 / df3.loc['2010-01-29'][5]\n",
    "num2 = mk2 / df3.loc['2010-01-29'][2]\n",
    "\n",
    "print(f'We are long {num5} contracts of the 5 year strip with {mk5} value.')\n",
    "print(f'We are short {num2} contracts of the 5 year strip with {mk2} value.')\n",
    "\n"
   ]
  },
  {
   "cell_type": "markdown",
   "metadata": {},
   "source": [
    "### 2. (5pts)\n",
    "As of `2011-01-31`, assess the pnl on the long, short, and net trade."
   ]
  },
  {
   "cell_type": "code",
   "execution_count": 77,
   "metadata": {},
   "outputs": [
    {
     "name": "stdout",
     "output_type": "stream",
     "text": [
      "Long PnL on the former 5 year strips is 6179199.310385317.\n",
      "Short PnL on the former 2 year strips is -3195323.560800165.\n",
      "Total PnL is 2983875.7495851517.\n"
     ]
    }
   ],
   "source": [
    "w5 = num5 * df3.loc['2011-01-31'][4]\n",
    "w2 = num2 * df3.loc['2011-01-31'][1]\n",
    "\n",
    "print(f'Long PnL on the former 5 year strips is {w5 - mk5}.')\n",
    "print(f'Short PnL on the former 2 year strips is {w2 - mk2}.')\n",
    "print(f'Total PnL is {w5 + w2 - mk5 - mk2}.')\n"
   ]
  },
  {
   "cell_type": "markdown",
   "metadata": {},
   "source": [
    "### 3. (10pts)\n",
    "On `2011-01-31`, roll over the trade.\n",
    "* close out the short positions\n",
    "* enter new short positions in 2-year strips that are a duration hedge against your (continuing) long positions.\n",
    "\n",
    "List the details of your short and long positions in terms of market value and face value of each side of the trade."
   ]
  },
  {
   "cell_type": "code",
   "execution_count": null,
   "metadata": {},
   "outputs": [],
   "source": []
  },
  {
   "cell_type": "markdown",
   "metadata": {},
   "source": [
    "### 4. (5pts)\n",
    "On `2012-01-31`, close out the trade.\n",
    "\n",
    "Report...\n",
    "* pnl for the long, short, and net of the trade."
   ]
  },
  {
   "cell_type": "markdown",
   "metadata": {},
   "source": [
    "### 5. (5pts)\n",
    "How did this trade do compared to a long-only trade in 5-year notes? Explain."
   ]
  },
  {
   "cell_type": "markdown",
   "metadata": {},
   "source": [
    "### 6. (5pts)\n",
    "\n",
    "Notwithstanding the duration hedge, why was the trade still sensitive to changing levels of the spot rate curve?\n",
    "\n",
    "Be specific in your answer, and consider which quantitative metric would support your answer."
   ]
  },
  {
   "cell_type": "markdown",
   "metadata": {},
   "source": [
    "### 7. (5pts)\n",
    "\n",
    "Does this trade rely on the Expectations Hypothesis being true or false? How about this type of trade in general?"
   ]
  },
  {
   "cell_type": "markdown",
   "metadata": {},
   "source": [
    "### 8. (5pts)\n",
    "\n",
    "As of `2012-01-31`, is the market environment favorable to this type of long-short trade?\n",
    "\n",
    "Be specific."
   ]
  },
  {
   "cell_type": "markdown",
   "metadata": {},
   "source": [
    "### 9. (5pts)\n",
    "\n",
    "As of `2010-01-29`, what is the continuously compounded forward rate from $T_1=2\\to T_2=4$?"
   ]
  },
  {
   "cell_type": "markdown",
   "metadata": {},
   "source": [
    "### 10. (5pts)\n",
    "\n",
    "As of `2012-01-31`, is the two-year continuously-compoounded spot rate, $r(0,2)$ higher or lower than the forward rate calculated above for `2010-01-29`?\n",
    "\n",
    "Is this surprising?"
   ]
  },
  {
   "cell_type": "markdown",
   "metadata": {},
   "source": [
    "***"
   ]
  },
  {
   "cell_type": "markdown",
   "metadata": {},
   "source": [
    "# 4. The Swap-Spread"
   ]
  },
  {
   "cell_type": "markdown",
   "metadata": {},
   "source": [
    "Consider the market data below. \n",
    "* It refers to **20-year** T-bonds and swaps.\n",
    "* Assume the T-bond has exactly 20-years to maturity, with a coupon that exactly matches the YTM below."
   ]
  },
  {
   "cell_type": "code",
   "execution_count": 78,
   "metadata": {},
   "outputs": [
    {
     "data": {
      "text/html": [
       "<style type=\"text/css\">\n",
       "</style>\n",
       "<table id=\"T_7aa5c\">\n",
       "  <thead>\n",
       "    <tr>\n",
       "      <th class=\"blank level0\" >&nbsp;</th>\n",
       "      <th id=\"T_7aa5c_level0_col0\" class=\"col_heading level0 col0\" >Nov 2018</th>\n",
       "      <th id=\"T_7aa5c_level0_col1\" class=\"col_heading level0 col1\" >Nov 2023</th>\n",
       "    </tr>\n",
       "  </thead>\n",
       "  <tbody>\n",
       "    <tr>\n",
       "      <th id=\"T_7aa5c_level0_row0\" class=\"row_heading level0 row0\" >YTM</th>\n",
       "      <td id=\"T_7aa5c_row0_col0\" class=\"data row0 col0\" >3.1480%</td>\n",
       "      <td id=\"T_7aa5c_row0_col1\" class=\"data row0 col1\" >4.6670%</td>\n",
       "    </tr>\n",
       "    <tr>\n",
       "      <th id=\"T_7aa5c_level0_row1\" class=\"row_heading level0 row1\" >swap rate</th>\n",
       "      <td id=\"T_7aa5c_row1_col0\" class=\"data row1 col0\" >2.7639%</td>\n",
       "      <td id=\"T_7aa5c_row1_col1\" class=\"data row1 col1\" >3.9895%</td>\n",
       "    </tr>\n",
       "  </tbody>\n",
       "</table>\n"
      ],
      "text/plain": [
       "<pandas.io.formats.style.Styler at 0x1e3f7f63e30>"
      ]
     },
     "execution_count": 78,
     "metadata": {},
     "output_type": "execute_result"
    }
   ],
   "source": [
    "summary = pd.DataFrame(index=['YTM','swap rate'],columns = ['Nov 2018','Nov 2023'],dtype=float)\n",
    "summary.loc['YTM'] = [.031480, .046670]\n",
    "summary.loc['swap rate'] = [.027639,.039895]\n",
    "summary.style.format('{:.4%}')"
   ]
  },
  {
   "cell_type": "markdown",
   "metadata": {},
   "source": [
    "### 4.1. (5pts)\n",
    "\n",
    "Consider `Nov 2018`. Suppose you enter into a swap-spread trade.\n",
    "* You go long \\$100 million **market value** of 20-year T-bonds.\n",
    "* You simultaneously enter a 20-year swap, paying-fixed, with notional of \\$100 million.\n",
    "\n",
    "\n",
    "Report the \n",
    "* price of the T-bond in Nov 2018.\n",
    "* amount of T-bonds purchased, (each face value of 100)."
   ]
  },
  {
   "cell_type": "code",
   "execution_count": 79,
   "metadata": {},
   "outputs": [],
   "source": [
    "def bond_price(cpn, ytm, years, years_past, compounding=2, FV=100):\n",
    "    price = 0\n",
    "\n",
    "    for i in np.arange(years_past + 1 / compounding, years + 1 / compounding, 1 / compounding):\n",
    "        z = 1 / (1 + ytm/compounding) ** (compounding * (i - years_past))\n",
    "        val = cpn * FV * z / compounding\n",
    "        price += val\n",
    "\n",
    "    price += (FV) / ((1 + ytm/compounding) ** (compounding * (years - years_past)))\n",
    "\n",
    "    return float(price)"
   ]
  },
  {
   "cell_type": "code",
   "execution_count": 80,
   "metadata": {},
   "outputs": [
    {
     "name": "stdout",
     "output_type": "stream",
     "text": [
      "Price of a t-bond is 100.\n",
      "Purchased 1000000 t bonds.\n"
     ]
    }
   ],
   "source": [
    "# if cpn is ytm, then mkt is face\n",
    "\n",
    "print('Price of a t-bond is 100.')\n",
    "print('Purchased 1000000 t bonds.')"
   ]
  },
  {
   "cell_type": "markdown",
   "metadata": {},
   "source": [
    "### 4.2. (5pts)\n",
    "\n",
    "Report the first cashflow of the trade, in May 2019.\n",
    "\n",
    "For simplicity, \n",
    "* assume the swap pays semiannually, at the same date the T-bond pays coupons.\n",
    "* the repo rate involved in the trade cancels out with the floating rate of the swap.\n",
    "* the repo term is semiannually, corresponding to the coupon and swap dates.\n",
    "* there are not any margin calls or distributions in the discussion below.\n",
    "\n",
    "If the haircut is 4\\% to repo the T-bonds, then what is the May 2019 cashflow as a percentage of the equity capital in the position?"
   ]
  },
  {
   "cell_type": "code",
   "execution_count": null,
   "metadata": {},
   "outputs": [],
   "source": []
  },
  {
   "cell_type": "markdown",
   "metadata": {},
   "source": [
    "### 4.3. (5pts)\n",
    "\n",
    "Report the risk of the trade.\n",
    "* Duration and dollar duration for the T-bond\n",
    "* Duration and dollar duration for the swap\n",
    "\n",
    "Note that you are reporting the usual, Macauley, duration--not the modified duration. \n",
    "\n",
    "For each of these duration calculations, use only the YTM and swap rates--no need for a discount curve."
   ]
  },
  {
   "cell_type": "markdown",
   "metadata": {},
   "source": [
    "### 4.4. (5pts)\n",
    "\n",
    "Use **modified** duration to answer the following:\n",
    "\n",
    "* What is the expected profit and loss if the swap-spread goes to zero?\n",
    "* What return would this be relative to the initial equity capital to put on the position?\n",
    "\n",
    "#### Note:\n",
    "We refer to the spread (swap-rate minus T-bond YTM) going to zero symmetrically (the YTM falls and swap rate rise equally until converging.)"
   ]
  },
  {
   "cell_type": "markdown",
   "metadata": {},
   "source": [
    "### 4.5. (10pts)\n",
    "\n",
    "Now it is `Nov 2023`. Use the market quotes to report...\n",
    "* the value of the long T-bond positions (15 years-to-maturity)\n",
    "* the value of the paying-fixed swap (15 years-to-expiration)\n",
    "* the net value of your position and return on your equity capital."
   ]
  },
  {
   "cell_type": "markdown",
   "metadata": {},
   "source": [
    "### 4.6. (5pts)\n",
    "\n",
    "Assume there are no market frictions, and there is more credit risk in the swap than in the T-bond.\n",
    "\n",
    "In that case, is the swap-spread trade an arbitrage, a statistically favorable trade, both, or neither? \n",
    "\n",
    "Be specific whether your answer is for the long-term or short-term."
   ]
  },
  {
   "cell_type": "markdown",
   "metadata": {},
   "source": [
    "***"
   ]
  }
 ],
 "metadata": {
  "hide_input": false,
  "kernelspec": {
   "display_name": "base",
   "language": "python",
   "name": "python3"
  },
  "language_info": {
   "codemirror_mode": {
    "name": "ipython",
    "version": 3
   },
   "file_extension": ".py",
   "mimetype": "text/x-python",
   "name": "python",
   "nbconvert_exporter": "python",
   "pygments_lexer": "ipython3",
   "version": "3.12.7"
  }
 },
 "nbformat": 4,
 "nbformat_minor": 4
}
